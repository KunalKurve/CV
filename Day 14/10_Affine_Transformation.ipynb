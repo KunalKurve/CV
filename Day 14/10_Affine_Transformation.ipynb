{
 "cells": [
  {
   "cell_type": "markdown",
   "metadata": {},
   "source": [
    "### All transformation using Affine Transformation"
   ]
  },
  {
   "cell_type": "code",
   "execution_count": 3,
   "metadata": {},
   "outputs": [],
   "source": [
    "import cv2\n",
    "import numpy as np"
   ]
  },
  {
   "cell_type": "code",
   "execution_count": 2,
   "metadata": {},
   "outputs": [],
   "source": [
    "img = cv2.imread(r'D:\\NLP\\Day14\\images\\lenna.png')"
   ]
  },
  {
   "cell_type": "code",
   "execution_count": 13,
   "metadata": {},
   "outputs": [],
   "source": [
    "# define transformation parameters\n",
    "tx = 50  # Translation along x-axis\n",
    "ty = 100 # Traslation along y-axis\n",
    "angle = 45  # Rotation angle in degrees\n",
    "scale = 1.2  # Scaling factor\n",
    "shear_x = 0.3  # Shearing along x-axis\n",
    "shear_y = 0.2  # Shearing along y-axis\n",
    "\n",
    "# Create transformation matrix \n",
    "\n",
    "M = np.float32([[scale*np.cos(np.radians(angle)), shear_x, tx],\n",
    "              [shear_y,scale*np.sin(np.radians(angle)), ty]])\n",
    "\n",
    "# Apply transformation using wrapAffine\n",
    "img_affine = cv2.warpAffine(img,M,(512,512))\n",
    "\n",
    "# Display original and affine transformed images\n",
    "cv2.imshow(\"Original Image\", img)\n",
    "cv2.imshow('Affine Transformed Image', img_affine)\n",
    "cv2.waitKey(0)\n",
    "cv2.destroyAllWindows()"
   ]
  },
  {
   "cell_type": "code",
   "execution_count": 16,
   "metadata": {},
   "outputs": [],
   "source": [
    "# define transformation parameters\n",
    "tx = 50  # Translation along x-axis\n",
    "ty = 200 # Traslation along y-axis\n",
    "angle = 45  # Rotation angle in degrees\n",
    "scale = 200/512  # Scaling factor\n",
    "shear_x = 0  # Shearing along x-axis\n",
    "shear_y = 0  # Shearing along y-axis\n",
    "\n",
    "# Create transformation matrix \n",
    "\n",
    "M = np.float32([[scale*np.cos(np.radians(angle)), -np.sin(np.radians(angle)), tx],\n",
    "              [np.sin(np.radians(angle)), scale*np.cos(np.radians(angle)), ty]])\n",
    "\n",
    "# Apply transformation using wrapAffine\n",
    "img_affine = cv2.warpAffine(img,M,(512,512))\n",
    "\n",
    "# Display original and affine transformed images\n",
    "cv2.imshow(\"Original Image\", img)\n",
    "cv2.imshow('Affine Transformed Image', img_affine)\n",
    "cv2.waitKey(0)\n",
    "cv2.destroyAllWindows()"
   ]
  },
  {
   "cell_type": "code",
   "execution_count": 17,
   "metadata": {},
   "outputs": [],
   "source": [
    "# define transformation parameters\n",
    "tx = 50  # Translation along x-axis\n",
    "ty = 200 # Traslation along y-axis\n",
    "angle = -20  # Rotation angle in degrees\n",
    "scale = 200/512  # Scaling factor\n",
    "\n",
    "M = np.float32([[scale*np.cos(np.radians(angle)), -np.sin(np.radians(angle)), tx],\n",
    "              [np.sin(np.radians(angle)), scale*np.cos(np.radians(angle)), ty]])\n",
    "\n",
    "# Apply transformation using wrapAffine\n",
    "img_affine = cv2.warpAffine(img,M,(512,512))\n",
    "\n",
    "# Display original and affine transformed images\n",
    "cv2.imshow('Affine Transformed Image', img_affine)\n",
    "cv2.waitKey(0)\n",
    "cv2.destroyAllWindows()"
   ]
  },
  {
   "cell_type": "markdown",
   "metadata": {},
   "source": [
    "Question : M = np.float32([[scale*np.cos(np.radians(angle)), shear_x, tx], [shear_y,scale*np.sin(np.radians(angle)), ty]]) \n",
    "\n",
    "why the shear x and shear y are not in the same column in the above transformation matrix and also why scale x and scale y are not in the same column but the translation in x and translation in y are in the same column. Why?"
   ]
  },
  {
   "cell_type": "markdown",
   "metadata": {},
   "source": [
    "Answer: The reason shear X and shear Y are not in the same column is due to the way shear transformations are defined. Shear transformations displace each point in a fixed direction by an amount proportional to its signed distance from a given line parallel to that direction. This means that the shear transformation in the X direction (shear_x) affects the X-coordinate of a point, while the shear transformation in the Y direction (shear_y) affects the Y-coordinate of a point.\n",
    "\n",
    "In the transformation matrix M, the first column represents the X-direction transformations, and the second column represents the Y-direction transformations. Since shear_x affects the X-coordinate and shear_y affects the Y-coordinate, they are placed in separate columns to reflect this directional distinction.\n",
    "\n",
    "Scale X and Scale Y not in the same column: Similarly, the reason scale X (scale) and scale Y (scale) are not in the same column is because they represent different scaling factors for the X and Y directions, respectively. The scale factor for the X-direction (scale) is applied to the X-coordinate of a point, while the scale factor for the Y-direction (scale) is applied to the Y-coordinate of a point.\n",
    "\n",
    "In the transformation matrix M, the first row represents the scaling and shear transformations in the X-direction, while the second row represents the scaling and shear transformations in the Y-direction. Since the scale factors for X and Y are distinct, they are placed in separate rows to reflect this directional distinction.\n",
    "\n",
    "Translation in X and Translation in Y in the same column: The reason translation in X (tx) and translation in Y (ty) are in the same column is because they represent translations in the same coordinate system (i.e., the same reference frame). Both tx and ty displace the point by the same amount in their respective directions, but they do so in a way that is independent of the scaling and shear transformations.\n",
    "\n",
    "In the transformation matrix M, the third column represents the translation transformations in both the X and Y directions. Since tx and ty are both translations in the same coordinate system, they are placed in the same column to reflect this spatial relationship."
   ]
  }
 ],
 "metadata": {
  "kernelspec": {
   "display_name": "base",
   "language": "python",
   "name": "python3"
  },
  "language_info": {
   "codemirror_mode": {
    "name": "ipython",
    "version": 3
   },
   "file_extension": ".py",
   "mimetype": "text/x-python",
   "name": "python",
   "nbconvert_exporter": "python",
   "pygments_lexer": "ipython3",
   "version": "3.11.7"
  }
 },
 "nbformat": 4,
 "nbformat_minor": 2
}
