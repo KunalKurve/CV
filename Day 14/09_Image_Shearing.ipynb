{
 "cells": [
  {
   "cell_type": "code",
   "execution_count": 6,
   "metadata": {},
   "outputs": [],
   "source": [
    "import cv2\n",
    "import numpy as np\n",
    "\n",
    "# Load image\n",
    "image  = cv2.imread(r'D:\\NLP\\Day14\\images\\lenna.png')\n",
    "\n",
    "# Define shearing factors (adjust as needed)\n",
    "shear_x = 0.30 # shear along x-axis\n",
    "shear_y = 0.25 # shear along y-axis\n",
    "\n",
    "#Create transformation matrix\n",
    "M = np.array([[1, shear_x, 0],\n",
    "              [shear_y, 1, 0],\n",
    "              [0, 0, 1]])\n",
    "\n",
    "rows, cols, _ = image.shape\n",
    "T = np.float32([[1,0,0],[0,1,150]])\n",
    "\n",
    "# We use warpAffine to transform the image using the matrix, T\n",
    "img_translation = cv2.warpAffine(image, T, (int(cols*1.5), int(rows*1.5)))\n",
    "sheared_img = cv2.warpPerspective(img_translation, M, (int(cols*1.5), int(rows*1.5)))\n",
    "\n",
    "\n",
    "# Show the Original image \n",
    "cv2.imshow('Original Image', image)\n",
    "\n",
    "# Show the Sheared image \n",
    "cv2.imshow('Sheared Image', sheared_img)\n",
    "cv2.waitKey(0)\n",
    "cv2.destroyAllWindows()"
   ]
  },
  {
   "cell_type": "code",
   "execution_count": null,
   "metadata": {},
   "outputs": [],
   "source": []
  },
  {
   "cell_type": "code",
   "execution_count": null,
   "metadata": {},
   "outputs": [],
   "source": []
  }
 ],
 "metadata": {
  "kernelspec": {
   "display_name": "base",
   "language": "python",
   "name": "python3"
  },
  "language_info": {
   "codemirror_mode": {
    "name": "ipython",
    "version": 3
   },
   "file_extension": ".py",
   "mimetype": "text/x-python",
   "name": "python",
   "nbconvert_exporter": "python",
   "pygments_lexer": "ipython3",
   "version": "3.11.7"
  }
 },
 "nbformat": 4,
 "nbformat_minor": 2
}
