{
 "cells": [
  {
   "cell_type": "markdown",
   "metadata": {},
   "source": [
    "### Flipping the image"
   ]
  },
  {
   "cell_type": "code",
   "execution_count": 1,
   "metadata": {},
   "outputs": [],
   "source": [
    "import cv2"
   ]
  },
  {
   "cell_type": "code",
   "execution_count": 3,
   "metadata": {},
   "outputs": [],
   "source": [
    "# Load image\n",
    "image  = cv2.imread(r'D:\\NLP\\Day14\\images\\lenna.png')\n",
    "\n",
    "# Flip the image horizontaly\n",
    "flipped_horizontal = cv2.flip(image,0)\n",
    "\n",
    "# Flip the image verticaly\n",
    "flipped_vertical = cv2.flip(image,1)\n",
    "\n",
    "# Flip the image diagonaly\n",
    "flipped_diagonal = cv2.flip(image,-1)\n",
    "\n",
    "# Show the rotated image \n",
    "cv2.imshow('Original Image', image)\n",
    "cv2.imshow('flipped_horizontal', flipped_horizontal)\n",
    "cv2.imshow('flipped_vertical', flipped_vertical)\n",
    "cv2.imshow('flipped_diagonal', flipped_diagonal)\n",
    "cv2.waitKey(0)\n",
    "cv2.destroyAllWindows()\n"
   ]
  },
  {
   "cell_type": "code",
   "execution_count": null,
   "metadata": {},
   "outputs": [],
   "source": []
  }
 ],
 "metadata": {
  "kernelspec": {
   "display_name": "base",
   "language": "python",
   "name": "python3"
  },
  "language_info": {
   "codemirror_mode": {
    "name": "ipython",
    "version": 3
   },
   "file_extension": ".py",
   "mimetype": "text/x-python",
   "name": "python",
   "nbconvert_exporter": "python",
   "pygments_lexer": "ipython3",
   "version": "3.11.7"
  }
 },
 "nbformat": 4,
 "nbformat_minor": 2
}
